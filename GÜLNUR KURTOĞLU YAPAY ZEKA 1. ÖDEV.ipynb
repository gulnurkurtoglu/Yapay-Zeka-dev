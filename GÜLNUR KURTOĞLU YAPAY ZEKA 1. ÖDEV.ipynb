{
 "cells": [
  {
   "cell_type": "code",
   "execution_count": 1,
   "id": "a8238ec2",
   "metadata": {},
   "outputs": [],
   "source": [
    "import pandas as pd"
   ]
  },
  {
   "cell_type": "code",
   "execution_count": 2,
   "id": "07a0fe83",
   "metadata": {},
   "outputs": [],
   "source": [
    "import numpy as np"
   ]
  },
  {
   "cell_type": "code",
   "execution_count": 3,
   "id": "b4bfe58d",
   "metadata": {},
   "outputs": [],
   "source": [
    "import matplotlib.pyplot as plt"
   ]
  },
  {
   "cell_type": "code",
   "execution_count": 4,
   "id": "c1a67467",
   "metadata": {},
   "outputs": [],
   "source": [
    "import nltk"
   ]
  },
  {
   "cell_type": "code",
   "execution_count": 5,
   "id": "0eda78b3",
   "metadata": {},
   "outputs": [],
   "source": [
    "from nltk.corpus import stopwords"
   ]
  },
  {
   "cell_type": "code",
   "execution_count": 6,
   "id": "ac96c95d",
   "metadata": {},
   "outputs": [],
   "source": [
    "from nltk.stem import WordNetLemmatizer, PorterStemmer"
   ]
  },
  {
   "cell_type": "code",
   "execution_count": 7,
   "id": "abfdd226",
   "metadata": {},
   "outputs": [],
   "source": [
    "from nltk.tokenize import word_tokenize"
   ]
  },
  {
   "cell_type": "code",
   "execution_count": 8,
   "id": "bf4de747",
   "metadata": {},
   "outputs": [],
   "source": [
    "from sklearn.feature_extraction.text import TfidfVectorizer"
   ]
  },
  {
   "cell_type": "code",
   "execution_count": 9,
   "id": "dc32d073",
   "metadata": {},
   "outputs": [],
   "source": [
    "from gensim.models import Word2Vec"
   ]
  },
  {
   "cell_type": "code",
   "execution_count": 10,
   "id": "41f3d893",
   "metadata": {},
   "outputs": [],
   "source": [
    "from sklearn.metrics.pairwise import cosine_similarity"
   ]
  },
  {
   "cell_type": "code",
   "execution_count": 11,
   "id": "6c265bea",
   "metadata": {},
   "outputs": [],
   "source": [
    "from collections import Counter"
   ]
  },
  {
   "cell_type": "code",
   "execution_count": 12,
   "id": "25e2ec45",
   "metadata": {},
   "outputs": [],
   "source": [
    "import re"
   ]
  },
  {
   "cell_type": "code",
   "execution_count": 13,
   "id": "893ff57d",
   "metadata": {},
   "outputs": [
    {
     "data": {
      "text/html": [
       "<div>\n",
       "<style scoped>\n",
       "    .dataframe tbody tr th:only-of-type {\n",
       "        vertical-align: middle;\n",
       "    }\n",
       "\n",
       "    .dataframe tbody tr th {\n",
       "        vertical-align: top;\n",
       "    }\n",
       "\n",
       "    .dataframe thead th {\n",
       "        text-align: right;\n",
       "    }\n",
       "</style>\n",
       "<table border=\"1\" class=\"dataframe\">\n",
       "  <thead>\n",
       "    <tr style=\"text-align: right;\">\n",
       "      <th></th>\n",
       "      <th>Kategori</th>\n",
       "      <th>Ürün Adı</th>\n",
       "      <th>Renk</th>\n",
       "      <th>Bel Tipi</th>\n",
       "      <th>Paça Tipi</th>\n",
       "      <th>Kumaş</th>\n",
       "      <th>Detay</th>\n",
       "      <th>Kapatma</th>\n",
       "      <th>Cep Bilgisi</th>\n",
       "      <th>Stil Önerisi</th>\n",
       "      <th>Kalıp</th>\n",
       "    </tr>\n",
       "  </thead>\n",
       "  <tbody>\n",
       "    <tr>\n",
       "      <th>0</th>\n",
       "      <td>Pantolon</td>\n",
       "      <td>Yüksek Bel Düz Paça Pantolon</td>\n",
       "      <td>Krem</td>\n",
       "      <td>Orta Bel</td>\n",
       "      <td>Bol Paça</td>\n",
       "      <td>Viskon</td>\n",
       "      <td>Dikiş Detaylı</td>\n",
       "      <td>Yan Fermuar</td>\n",
       "      <td>Arka Cep Detaylı</td>\n",
       "      <td>Sneaker ve tişörtle günlük kullanım</td>\n",
       "      <td>Dar Kalıp</td>\n",
       "    </tr>\n",
       "    <tr>\n",
       "      <th>1</th>\n",
       "      <td>Pantolon</td>\n",
       "      <td>Yüksek Bel Düz Paça Pantolon</td>\n",
       "      <td>Kahverengi</td>\n",
       "      <td>Yüksek Bel</td>\n",
       "      <td>Düz Paça</td>\n",
       "      <td>Dokuma</td>\n",
       "      <td>Biyeli</td>\n",
       "      <td>Yan Fermuar</td>\n",
       "      <td>Arka Cep Detaylı</td>\n",
       "      <td>Gömlek ve topuklu ile ofise uygun</td>\n",
       "      <td>Dar Kalıp</td>\n",
       "    </tr>\n",
       "    <tr>\n",
       "      <th>2</th>\n",
       "      <td>Pantolon</td>\n",
       "      <td>Orta Bel Düz Paça Pantolon</td>\n",
       "      <td>Lacivert</td>\n",
       "      <td>Yüksek Bel</td>\n",
       "      <td>Bol Paça</td>\n",
       "      <td>Viskon</td>\n",
       "      <td>Dikiş Detaylı</td>\n",
       "      <td>Yan Fermuar</td>\n",
       "      <td>İki Yan Cep</td>\n",
       "      <td>Triko kazakla kışlık kombin</td>\n",
       "      <td>Rahat Kalıp</td>\n",
       "    </tr>\n",
       "    <tr>\n",
       "      <th>3</th>\n",
       "      <td>Pantolon</td>\n",
       "      <td>Yüksek Bel Bol Paça Pantolon</td>\n",
       "      <td>Bej</td>\n",
       "      <td>Yüksek Bel</td>\n",
       "      <td>Düz Paça</td>\n",
       "      <td>Polyester</td>\n",
       "      <td>Minimal</td>\n",
       "      <td>Yan Fermuar</td>\n",
       "      <td>İki Yan Cep</td>\n",
       "      <td>Gömlek ve topuklu ile ofise uygun</td>\n",
       "      <td>Rahat Kalıp</td>\n",
       "    </tr>\n",
       "    <tr>\n",
       "      <th>4</th>\n",
       "      <td>Pantolon</td>\n",
       "      <td>Orta Bel Geniş Paça Pantolon</td>\n",
       "      <td>Lacivert</td>\n",
       "      <td>Orta Bel</td>\n",
       "      <td>Bol Paça</td>\n",
       "      <td>Keten</td>\n",
       "      <td>Pileli</td>\n",
       "      <td>Düğmeli</td>\n",
       "      <td>Arka Cep Detaylı</td>\n",
       "      <td>Triko kazakla kışlık kombin</td>\n",
       "      <td>Rahat Kalıp</td>\n",
       "    </tr>\n",
       "    <tr>\n",
       "      <th>...</th>\n",
       "      <td>...</td>\n",
       "      <td>...</td>\n",
       "      <td>...</td>\n",
       "      <td>...</td>\n",
       "      <td>...</td>\n",
       "      <td>...</td>\n",
       "      <td>...</td>\n",
       "      <td>...</td>\n",
       "      <td>...</td>\n",
       "      <td>...</td>\n",
       "      <td>...</td>\n",
       "    </tr>\n",
       "    <tr>\n",
       "      <th>95</th>\n",
       "      <td>Pantolon</td>\n",
       "      <td>Orta Bel Düz Paça Pantolon</td>\n",
       "      <td>Lacivert</td>\n",
       "      <td>Orta Bel</td>\n",
       "      <td>Bol Paça</td>\n",
       "      <td>Polyester</td>\n",
       "      <td>Dikiş Detaylı</td>\n",
       "      <td>Lastikli</td>\n",
       "      <td>Cepsiz</td>\n",
       "      <td>Blazer ceketle şık kombin</td>\n",
       "      <td>Standart Kalıp</td>\n",
       "    </tr>\n",
       "    <tr>\n",
       "      <th>96</th>\n",
       "      <td>Pantolon</td>\n",
       "      <td>Yüksek Bel Düz Paça Pantolon</td>\n",
       "      <td>Gri</td>\n",
       "      <td>Orta Bel</td>\n",
       "      <td>Bol Paça</td>\n",
       "      <td>Polyester</td>\n",
       "      <td>Minimal</td>\n",
       "      <td>Lastikli</td>\n",
       "      <td>İki Yan Cep</td>\n",
       "      <td>Crop top ile modern stil</td>\n",
       "      <td>Standart Kalıp</td>\n",
       "    </tr>\n",
       "    <tr>\n",
       "      <th>97</th>\n",
       "      <td>Pantolon</td>\n",
       "      <td>Orta Bel Düz Paça Pantolon</td>\n",
       "      <td>Kahverengi</td>\n",
       "      <td>Orta Bel</td>\n",
       "      <td>Bol Paça</td>\n",
       "      <td>Pamuklu</td>\n",
       "      <td>Pileli</td>\n",
       "      <td>Yan Fermuar</td>\n",
       "      <td>İki Yan Cep</td>\n",
       "      <td>Gömlek ve topuklu ile ofise uygun</td>\n",
       "      <td>Rahat Kalıp</td>\n",
       "    </tr>\n",
       "    <tr>\n",
       "      <th>98</th>\n",
       "      <td>Pantolon</td>\n",
       "      <td>Orta Bel Bol Paça Pantolon</td>\n",
       "      <td>Kahverengi</td>\n",
       "      <td>Orta Bel</td>\n",
       "      <td>Düz Paça</td>\n",
       "      <td>Dokuma</td>\n",
       "      <td>Kuşaklı</td>\n",
       "      <td>Yan Fermuar</td>\n",
       "      <td>Arka Cep Detaylı</td>\n",
       "      <td>Sneaker ve tişörtle günlük kullanım</td>\n",
       "      <td>Standart Kalıp</td>\n",
       "    </tr>\n",
       "    <tr>\n",
       "      <th>99</th>\n",
       "      <td>Pantolon</td>\n",
       "      <td>Yüksek Bel Geniş Paça Pantolon</td>\n",
       "      <td>Bej</td>\n",
       "      <td>Orta Bel</td>\n",
       "      <td>Bol Paça</td>\n",
       "      <td>Viskon</td>\n",
       "      <td>Minimal</td>\n",
       "      <td>Düğmeli</td>\n",
       "      <td>Arka Cep Detaylı</td>\n",
       "      <td>Blazer ceketle şık kombin</td>\n",
       "      <td>Rahat Kalıp</td>\n",
       "    </tr>\n",
       "  </tbody>\n",
       "</table>\n",
       "<p>100 rows × 11 columns</p>\n",
       "</div>"
      ],
      "text/plain": [
       "    Kategori                        Ürün Adı        Renk    Bel Tipi  \\\n",
       "0   Pantolon    Yüksek Bel Düz Paça Pantolon        Krem    Orta Bel   \n",
       "1   Pantolon    Yüksek Bel Düz Paça Pantolon  Kahverengi  Yüksek Bel   \n",
       "2   Pantolon      Orta Bel Düz Paça Pantolon    Lacivert  Yüksek Bel   \n",
       "3   Pantolon    Yüksek Bel Bol Paça Pantolon         Bej  Yüksek Bel   \n",
       "4   Pantolon    Orta Bel Geniş Paça Pantolon    Lacivert    Orta Bel   \n",
       "..       ...                             ...         ...         ...   \n",
       "95  Pantolon      Orta Bel Düz Paça Pantolon    Lacivert    Orta Bel   \n",
       "96  Pantolon    Yüksek Bel Düz Paça Pantolon         Gri    Orta Bel   \n",
       "97  Pantolon      Orta Bel Düz Paça Pantolon  Kahverengi    Orta Bel   \n",
       "98  Pantolon      Orta Bel Bol Paça Pantolon  Kahverengi    Orta Bel   \n",
       "99  Pantolon  Yüksek Bel Geniş Paça Pantolon         Bej    Orta Bel   \n",
       "\n",
       "   Paça Tipi      Kumaş          Detay      Kapatma       Cep Bilgisi  \\\n",
       "0   Bol Paça     Viskon  Dikiş Detaylı  Yan Fermuar  Arka Cep Detaylı   \n",
       "1   Düz Paça     Dokuma         Biyeli  Yan Fermuar  Arka Cep Detaylı   \n",
       "2   Bol Paça     Viskon  Dikiş Detaylı  Yan Fermuar       İki Yan Cep   \n",
       "3   Düz Paça  Polyester        Minimal  Yan Fermuar       İki Yan Cep   \n",
       "4   Bol Paça      Keten         Pileli      Düğmeli  Arka Cep Detaylı   \n",
       "..       ...        ...            ...          ...               ...   \n",
       "95  Bol Paça  Polyester  Dikiş Detaylı     Lastikli            Cepsiz   \n",
       "96  Bol Paça  Polyester        Minimal     Lastikli       İki Yan Cep   \n",
       "97  Bol Paça    Pamuklu         Pileli  Yan Fermuar       İki Yan Cep   \n",
       "98  Düz Paça     Dokuma        Kuşaklı  Yan Fermuar  Arka Cep Detaylı   \n",
       "99  Bol Paça     Viskon        Minimal      Düğmeli  Arka Cep Detaylı   \n",
       "\n",
       "                           Stil Önerisi           Kalıp  \n",
       "0   Sneaker ve tişörtle günlük kullanım       Dar Kalıp  \n",
       "1     Gömlek ve topuklu ile ofise uygun       Dar Kalıp  \n",
       "2           Triko kazakla kışlık kombin     Rahat Kalıp  \n",
       "3     Gömlek ve topuklu ile ofise uygun     Rahat Kalıp  \n",
       "4           Triko kazakla kışlık kombin     Rahat Kalıp  \n",
       "..                                  ...             ...  \n",
       "95            Blazer ceketle şık kombin  Standart Kalıp  \n",
       "96             Crop top ile modern stil  Standart Kalıp  \n",
       "97    Gömlek ve topuklu ile ofise uygun     Rahat Kalıp  \n",
       "98  Sneaker ve tişörtle günlük kullanım  Standart Kalıp  \n",
       "99            Blazer ceketle şık kombin     Rahat Kalıp  \n",
       "\n",
       "[100 rows x 11 columns]"
      ]
     },
     "execution_count": 13,
     "metadata": {},
     "output_type": "execute_result"
    }
   ],
   "source": [
    "import pandas as pd\n",
    "df = pd.read_csv(\"C:/Users/Gülnur/Desktop/kadin_giyim_urunleri.csv\", encoding='utf-8')\n",
    "df.head(100 )"
   ]
  },
  {
   "cell_type": "code",
   "execution_count": 14,
   "id": "c13a524c",
   "metadata": {},
   "outputs": [],
   "source": [
    "renk = df['Renk'].str.lower().str.split()"
   ]
  },
  {
   "cell_type": "code",
   "execution_count": 15,
   "id": "bf7c889f",
   "metadata": {},
   "outputs": [
    {
     "name": "stdout",
     "output_type": "stream",
     "text": [
      "Sütunlar: ['Kategori', 'Ürün Adı', 'Renk', 'Bel Tipi', 'Paça Tipi', 'Kumaş', 'Detay', 'Kapatma', 'Cep Bilgisi', 'Stil Önerisi', 'Kalıp']\n"
     ]
    }
   ],
   "source": [
    "print(\"Sütunlar:\", df.columns.tolist())"
   ]
  },
  {
   "cell_type": "code",
   "execution_count": 16,
   "id": "63fc7b11",
   "metadata": {},
   "outputs": [
    {
     "name": "stdout",
     "output_type": "stream",
     "text": [
      "\n",
      "Usage:   \n",
      "  pip install [options] <requirement specifier> [package-index-options] ...\n",
      "  pip install [options] -r <requirements file> [package-index-options] ...\n",
      "  pip install [options] [-e] <vcs project url> ...\n",
      "  pip install [options] [-e] <local project path> ...\n",
      "  pip install [options] <archive url/path> ...\n",
      "\n",
      "Description:\n",
      "  Install packages from:\n",
      "  \n",
      "  - PyPI (and other indexes) using requirement specifiers.\n",
      "  - VCS project urls.\n",
      "  - Local project directories.\n",
      "  - Local or remote source archives.\n",
      "  \n",
      "  pip also supports installing from \"requirements files\", which provide\n",
      "  an easy way to specify a whole environment to be installed.\n",
      "\n",
      "Install Options:\n",
      "  -r, --requirement <file>    Install from the given requirements file. This\n",
      "                              option can be used multiple times.\n",
      "  -c, --constraint <file>     Constrain versions using the given constraints\n",
      "                              file. This option can be used multiple times.\n",
      "  --no-deps                   Don't install package dependencies.\n",
      "  --pre                       Include pre-release and development versions. By\n",
      "                              default, pip only finds stable versions.\n",
      "  -e, --editable <path/url>   Install a project in editable mode (i.e.\n",
      "                              setuptools \"develop mode\") from a local project\n",
      "                              path or a VCS url.\n",
      "  --dry-run                   Don't actually install anything, just print what\n",
      "                              would be. Can be used in combination with\n",
      "                              --ignore-installed to 'resolve' the\n",
      "                              requirements.\n",
      "  -t, --target <dir>          Install packages into <dir>. By default this\n",
      "                              will not replace existing files/folders in\n",
      "                              <dir>. Use --upgrade to replace existing\n",
      "                              packages in <dir> with new versions.\n",
      "  --platform <platform>       Only use wheels compatible with <platform>.\n",
      "                              Defaults to the platform of the running system.\n",
      "                              Use this option multiple times to specify\n",
      "                              multiple platforms supported by the target\n",
      "                              interpreter.\n",
      "  --python-version <python_version>\n",
      "                              The Python interpreter version to use for wheel\n",
      "                              and \"Requires-Python\" compatibility checks.\n",
      "                              Defaults to a version derived from the running\n",
      "                              interpreter. The version can be specified using\n",
      "                              up to three dot-separated integers (e.g. \"3\" for\n",
      "                              3.0.0, \"3.7\" for 3.7.0, or \"3.7.3\"). A major-\n",
      "                              minor version can also be given as a string\n",
      "                              without dots (e.g. \"37\" for 3.7.0).\n",
      "  --implementation <implementation>\n",
      "                              Only use wheels compatible with Python\n",
      "                              implementation <implementation>, e.g. 'pp',\n",
      "                              'jy', 'cp',  or 'ip'. If not specified, then the\n",
      "                              current interpreter implementation is used.  Use\n",
      "                              'py' to force implementation-agnostic wheels.\n",
      "  --abi <abi>                 Only use wheels compatible with Python abi\n",
      "                              <abi>, e.g. 'pypy_41'. If not specified, then\n",
      "                              the current interpreter abi tag is used. Use\n",
      "                              this option multiple times to specify multiple\n",
      "                              abis supported by the target interpreter.\n",
      "                              Generally you will need to specify\n",
      "                              --implementation, --platform, and --python-\n",
      "                              version when using this option.\n",
      "  --user                      Install to the Python user install directory for\n",
      "                              your platform. Typically ~/.local/, or\n",
      "                              %APPDATA%\\Python on Windows. (See the Python\n",
      "                              documentation for site.USER_BASE for full\n",
      "                              details.)\n",
      "  --root <dir>                Install everything relative to this alternate\n",
      "                              root directory.\n",
      "  --prefix <dir>              Installation prefix where lib, bin and other\n",
      "                              top-level folders are placed. Note that the\n",
      "                              resulting installation may contain scripts and\n",
      "                              other resources which reference the Python\n",
      "                              interpreter of pip, and not that of\n",
      "                              ``--prefix``. See also the ``--python`` option\n",
      "                              if the intention is to install packages into\n",
      "                              another (possibly pip-free) environment.\n",
      "  --src <dir>                 Directory to check out editable projects into.\n",
      "                              The default in a virtualenv is \"<venv\n",
      "                              path>/src\". The default for global installs is\n",
      "                              \"<current dir>/src\".\n",
      "  -U, --upgrade               Upgrade all specified packages to the newest\n",
      "                              available version. The handling of dependencies\n",
      "                              depends on the upgrade-strategy used.\n",
      "  --upgrade-strategy <upgrade_strategy>\n",
      "                              Determines how dependency upgrading should be\n",
      "                              handled [default: only-if-needed]. \"eager\" -\n",
      "                              dependencies are upgraded regardless of whether\n",
      "                              the currently installed version satisfies the\n",
      "                              requirements of the upgraded package(s). \"only-\n",
      "                              if-needed\" -  are upgraded only when they do not\n",
      "                              satisfy the requirements of the upgraded\n",
      "                              package(s).\n",
      "  --force-reinstall           Reinstall all packages even if they are already\n",
      "                              up-to-date.\n",
      "  -I, --ignore-installed      Ignore the installed packages, overwriting them.\n",
      "                              This can break your system if the existing\n",
      "                              package is of a different version or was\n",
      "                              installed with a different package manager!\n",
      "  --ignore-requires-python    Ignore the Requires-Python information.\n",
      "  --no-build-isolation        Disable isolation when building a modern source\n",
      "                              distribution. Build dependencies specified by\n",
      "                              PEP 518 must be already installed if this option\n",
      "                              is used.\n",
      "  --use-pep517                Use PEP 517 for building source distributions\n",
      "                              (use --no-use-pep517 to force legacy behaviour).\n",
      "  --check-build-dependencies  Check the build dependencies when PEP517 is\n",
      "                              used.\n",
      "  --break-system-packages     Allow pip to modify an EXTERNALLY-MANAGED Python\n",
      "                              installation\n",
      "  -C, --config-settings <settings>\n",
      "                              Configuration settings to be passed to the PEP\n",
      "                              517 build backend. Settings take the form\n",
      "                              KEY=VALUE. Use multiple --config-settings\n",
      "                              options to pass multiple keys to the backend.\n",
      "  --global-option <options>   Extra global options to be supplied to the\n",
      "                              setup.py call before the install or bdist_wheel\n",
      "                              command.\n",
      "  --compile                   Compile Python source files to bytecode\n",
      "  --no-compile                Do not compile Python source files to bytecode\n",
      "  --no-warn-script-location   Do not warn when installing scripts outside PATH\n",
      "  --no-warn-conflicts         Do not warn about broken dependencies\n",
      "  --no-binary <format_control>\n",
      "                              Do not use binary packages. Can be supplied\n",
      "                              multiple times, and each time adds to the\n",
      "                              existing value. Accepts either \":all:\" to\n",
      "                              disable all binary packages, \":none:\" to empty\n",
      "                              the set (notice the colons), or one or more\n",
      "                              package names with commas between them (no\n",
      "                              colons). Note that some packages are tricky to\n",
      "                              compile and may fail to install when this option\n",
      "                              is used on them.\n",
      "  --only-binary <format_control>\n",
      "                              Do not use source packages. Can be supplied\n",
      "                              multiple times, and each time adds to the\n",
      "                              existing value. Accepts either \":all:\" to\n",
      "                              disable all source packages, \":none:\" to empty\n",
      "                              the set, or one or more package names with\n",
      "                              commas between them. Packages without binary\n",
      "                              distributions will fail to install when this\n",
      "                              option is used on them.\n",
      "  --prefer-binary             Prefer older binary packages over newer source\n",
      "                              packages.\n",
      "  --require-hashes            Require a hash to check each requirement\n",
      "                              against, for repeatable installs. This option is\n",
      "                              implied when any package in a requirements file\n",
      "                              has a --hash option.\n",
      "  --progress-bar <progress_bar>\n",
      "                              Specify whether the progress bar should be used\n",
      "                              [on, off] (default: on)\n",
      "  --root-user-action <root_user_action>\n",
      "                              Action if pip is run as a root user. By default,\n",
      "                              a warning message is shown.\n",
      "  --report <file>             Generate a JSON file describing what pip did to\n",
      "                              install the provided requirements. Can be used\n",
      "                              in combination with --dry-run and --ignore-\n",
      "                              installed to 'resolve' the requirements. When -\n",
      "                              is used as file name it writes to stdout. When\n",
      "                              writing to stdout, please combine with the\n",
      "                              --quiet option to avoid mixing pip logging\n",
      "                              output with JSON output.\n",
      "  --no-clean                  Don't clean up build directories.\n",
      "\n",
      "Package Index Options:\n",
      "  -i, --index-url <url>       Base URL of the Python Package Index (default\n",
      "                              https://pypi.org/simple). This should point to a\n",
      "                              repository compliant with PEP 503 (the simple\n",
      "                              repository API) or a local directory laid out in\n",
      "                              the same format.\n",
      "  --extra-index-url <url>     Extra URLs of package indexes to use in addition\n",
      "                              to --index-url. Should follow the same rules as\n",
      "                              --index-url.\n",
      "  --no-index                  Ignore package index (only looking at --find-\n",
      "                              links URLs instead).\n",
      "  -f, --find-links <url>      If a URL or path to an html file, then parse for\n",
      "                              links to archives such as sdist (.tar.gz) or\n",
      "                              wheel (.whl) files. If a local path or file://\n",
      "                              URL that's a directory, then look for archives\n",
      "                              in the directory listing. Links to VCS project\n",
      "                              URLs are not supported.\n",
      "\n",
      "General Options:\n",
      "  -h, --help                  Show help.\n",
      "  --debug                     Let unhandled exceptions propagate outside the\n",
      "                              main subroutine, instead of logging them to\n",
      "                              stderr.\n",
      "  --isolated                  Run pip in an isolated mode, ignoring\n",
      "                              environment variables and user configuration.\n",
      "  --require-virtualenv        Allow pip to only run in a virtual environment;\n",
      "                              exit with an error otherwise.\n",
      "  --python <python>           Run pip with the specified Python interpreter.\n",
      "  -v, --verbose               Give more output. Option is additive, and can be\n",
      "                              used up to 3 times.\n",
      "  -V, --version               Show version and exit.\n",
      "  -q, --quiet                 Give less output. Option is additive, and can be\n",
      "                              used up to 3 times (corresponding to WARNING,\n",
      "                              ERROR, and CRITICAL logging levels).\n",
      "  --log <path>                Path to a verbose appending log.\n",
      "  --no-input                  Disable prompting for input.\n",
      "  --keyring-provider <keyring_provider>\n",
      "                              Enable the credential lookup via the keyring\n",
      "                              library if user input is allowed. Specify which\n",
      "                              mechanism to use [disabled, import, subprocess].\n",
      "                              (default: disabled)\n",
      "  --proxy <proxy>             Specify a proxy in the form\n",
      "                              scheme://[user:passwd@]proxy.server:port.\n",
      "  --retries <retries>         Maximum number of retries each connection should\n",
      "                              attempt (default 5 times).\n",
      "  --timeout <sec>             Set the socket timeout (default 15 seconds).\n",
      "  --exists-action <action>    Default action when a path already exists:\n",
      "                              (s)witch, (i)gnore, (w)ipe, (b)ackup, (a)bort.\n",
      "  --trusted-host <hostname>   Mark this host or host:port pair as trusted,\n",
      "                              even though it does not have valid or any HTTPS.\n",
      "  --cert <path>               Path to PEM-encoded CA certificate bundle. If\n",
      "                              provided, overrides the default. See 'SSL\n",
      "                              Certificate Verification' in pip documentation\n",
      "                              for more information.\n",
      "  --client-cert <path>        Path to SSL client certificate, a single file\n",
      "                              containing the private key and the certificate\n",
      "                              in PEM format.\n",
      "  --cache-dir <dir>           Store the cache data in <dir>.\n",
      "  --no-cache-dir              Disable the cache.\n",
      "  --disable-pip-version-check\n",
      "                              Don't periodically check PyPI to determine\n",
      "                              whether a new version of pip is available for\n",
      "                              download. Implied with --no-index.\n",
      "  --no-color                  Suppress colored output.\n",
      "  --no-python-version-warning\n",
      "                              Silence deprecation warnings for upcoming\n",
      "                              unsupported Pythons.\n",
      "  --use-feature <feature>     Enable new functionality, that may be backward\n",
      "                              incompatible.\n",
      "  --use-deprecated <feature>  Enable deprecated functionality, that will be\n",
      "                              removed in the future.\n"
     ]
    }
   ],
   "source": [
    "!pip help install"
   ]
  },
  {
   "cell_type": "code",
   "execution_count": 17,
   "id": "8d7a84d9",
   "metadata": {},
   "outputs": [],
   "source": [
    "renk_listesi = [\n",
    "    'kırmızı', 'mavi', 'yeşil', 'sarı', 'siyah', 'beyaz', 'gri', 'mor',\n",
    "    'turuncu', 'pembe', 'bej', 'kahverengi', 'lacivert', 'bordo', 'altın', 'gümüş'\n",
    "]\n",
    "\n",
    "color_palette = {\n",
    "    'kırmızı': (255, 0, 0),\n",
    "    'mavi': (0, 0, 255),\n",
    "    'yeşil': (0, 128, 0),\n",
    "    'sarı': (255, 255, 0),\n",
    "    'siyah': (0, 0, 0),\n",
    "    'beyaz': (255, 255, 255),\n",
    "    'gri': (128, 128, 128),\n",
    "    'mor': (128, 0, 128),\n",
    "    'turuncu': (255, 165, 0),\n",
    "    'pembe': (255, 192, 203),\n",
    "    'bej': (245, 245, 220),\n",
    "    'kahverengi': (165, 42, 42),\n",
    "    'lacivert': (0, 0, 139),\n",
    "    'bordo': (128, 0, 32),\n",
    "    'altın': (255, 215, 0),\n",
    "    'gümüş': (192, 192, 192)\n",
    "}"
   ]
  },
  {
   "cell_type": "code",
   "execution_count": 18,
   "id": "117a501b",
   "metadata": {},
   "outputs": [],
   "source": [
    "def tokenize(text):\n",
    "    return re.findall(r'\\b\\w+\\b', str(text).lower())\n",
    "\n",
    "def renk_ayikla(tokens):\n",
    "    return [tok for tok in tokens if tok in renk_listesi]"
   ]
  },
  {
   "cell_type": "code",
   "execution_count": 19,
   "id": "c7cb141c",
   "metadata": {},
   "outputs": [],
   "source": [
    "df['description'] = df['Ürün Adı'] + ' ' + df['Renk'] + ' ' + df['Stil Önerisi']"
   ]
  },
  {
   "cell_type": "code",
   "execution_count": 20,
   "id": "6d24f066",
   "metadata": {},
   "outputs": [],
   "source": [
    "def tokenize(text):\n",
    "    return text.lower().split()"
   ]
  },
  {
   "cell_type": "code",
   "execution_count": 21,
   "id": "bb0d2f42",
   "metadata": {},
   "outputs": [],
   "source": [
    "def renk_ayikla(tokens):\n",
    "    renkler_listesi = [\n",
    "        'siyah', 'beyaz', 'kırmızı', 'mavi', 'yeşil', 'sarı',\n",
    "        'kahverengi', 'bej', 'lacivert', 'gri', 'turuncu', 'mor',\n",
    "        'pembe', 'zeytin', 'bordo', 'ekru'\n",
    "    ]\n",
    "    return [token for token in tokens if token in renkler_listesi]"
   ]
  },
  {
   "cell_type": "code",
   "execution_count": 22,
   "id": "d4a5571a",
   "metadata": {},
   "outputs": [],
   "source": [
    "df['tokens'] = df['description'].apply(tokenize)\n",
    "df['renkler'] = df['tokens'].apply(renk_ayikla)"
   ]
  },
  {
   "cell_type": "code",
   "execution_count": 23,
   "id": "83aa458f",
   "metadata": {},
   "outputs": [
    {
     "name": "stdout",
     "output_type": "stream",
     "text": [
      "                                         description  \\\n",
      "0  Yüksek Bel Düz Paça Pantolon Krem Sneaker ve t...   \n",
      "1  Yüksek Bel Düz Paça Pantolon Kahverengi Gömlek...   \n",
      "2  Orta Bel Düz Paça Pantolon Lacivert Triko kaza...   \n",
      "3  Yüksek Bel Bol Paça Pantolon Bej Gömlek ve top...   \n",
      "4  Orta Bel Geniş Paça Pantolon Lacivert Triko ka...   \n",
      "\n",
      "                                              tokens       renkler  \n",
      "0  [yüksek, bel, düz, paça, pantolon, krem, sneak...            []  \n",
      "1  [yüksek, bel, düz, paça, pantolon, kahverengi,...  [kahverengi]  \n",
      "2  [orta, bel, düz, paça, pantolon, lacivert, tri...    [lacivert]  \n",
      "3  [yüksek, bel, bol, paça, pantolon, bej, gömlek...         [bej]  \n",
      "4  [orta, bel, geniş, paça, pantolon, lacivert, t...    [lacivert]  \n"
     ]
    }
   ],
   "source": [
    "print(df[['description', 'tokens', 'renkler']].head())"
   ]
  },
  {
   "cell_type": "code",
   "execution_count": 24,
   "id": "df4b9c6f",
   "metadata": {},
   "outputs": [],
   "source": [
    "genis_renk_eslestirme = {\n",
    "    'açık mavi': 'mavi',\n",
    "    'koyu mavi': 'mavi',\n",
    "    'açık yeşil': 'yeşil',\n",
    "    'koyu yeşil': 'yeşil',\n",
    "    'açık pembe': 'pembe',\n",
    "    'koyu pembe': 'pembe',\n",
    "    'lacivert': 'mavi',\n",
    "    'bej': 'bej',\n",
    "    'krem': 'beyaz',\n",
    "    'siyah': 'siyah',\n",
    "    'beyaz': 'beyaz',\n",
    "    'gri': 'gri',\n",
    "    'kahverengi': 'kahverengi',\n",
    "    'zeytin yeşili': 'yeşil',\n",
    "    'bordo': 'kırmızı',\n",
    "    'ekru': 'beyaz',\n",
    "    'mavi': 'mavi',\n",
    "    'yeşil': 'yeşil',\n",
    "    'kırmızı': 'kırmızı',\n",
    "    'turuncu': 'turuncu',\n",
    "    'mor': 'mor',\n",
    "    'pembe': 'pembe',\n",
    "    'sarı': 'sarı'\n",
    "}"
   ]
  },
  {
   "cell_type": "code",
   "execution_count": 25,
   "id": "647948d8",
   "metadata": {},
   "outputs": [],
   "source": [
    "def renk_ayikla_genis_ve_kisa(description):\n",
    "    description = description.lower()\n",
    "    matched_colors = []\n",
    "\n",
    "    for renk_ifadesi, temel_renk in genis_renk_eslestirme.items():\n",
    "        if renk_ifadesi in description:\n",
    "            matched_colors.append(temel_renk)\n",
    "\n",
    "    return list(set(matched_colors))"
   ]
  },
  {
   "cell_type": "code",
   "execution_count": 26,
   "id": "372ba075",
   "metadata": {},
   "outputs": [],
   "source": [
    "if 'description' not in df.columns:\n",
    "    df['description'] = df['Ürün Adı'] + ' ' + df['Renk'] + ' ' + df['Stil Önerisi']"
   ]
  },
  {
   "cell_type": "code",
   "execution_count": 27,
   "id": "8b3711d8",
   "metadata": {},
   "outputs": [],
   "source": [
    "df['renkler'] = df['description'].apply(renk_ayikla_genis_ve_kisa)"
   ]
  },
  {
   "cell_type": "code",
   "execution_count": 28,
   "id": "b21cd65f",
   "metadata": {},
   "outputs": [
    {
     "name": "stdout",
     "output_type": "stream",
     "text": [
      "                                         description       renkler\n",
      "0  Yüksek Bel Düz Paça Pantolon Krem Sneaker ve t...       [beyaz]\n",
      "1  Yüksek Bel Düz Paça Pantolon Kahverengi Gömlek...  [kahverengi]\n",
      "2  Orta Bel Düz Paça Pantolon Lacivert Triko kaza...        [mavi]\n",
      "3  Yüksek Bel Bol Paça Pantolon Bej Gömlek ve top...         [bej]\n",
      "4  Orta Bel Geniş Paça Pantolon Lacivert Triko ka...        [mavi]\n"
     ]
    }
   ],
   "source": [
    "print(df[['description', 'renkler']].head())"
   ]
  },
  {
   "cell_type": "code",
   "execution_count": 29,
   "id": "85e8cf04",
   "metadata": {},
   "outputs": [
    {
     "name": "stdout",
     "output_type": "stream",
     "text": [
      "Defaulting to user installation because normal site-packages is not writeable\n",
      "Requirement already satisfied: pandas in c:\\users\\gülnur\\appdata\\roaming\\python\\python311\\site-packages (1.5.3)\n",
      "Requirement already satisfied: gensim in c:\\programdata\\anaconda3\\lib\\site-packages (4.3.0)\n",
      "Requirement already satisfied: scikit-learn in c:\\programdata\\anaconda3\\lib\\site-packages (1.3.0)\n",
      "Requirement already satisfied: python-dateutil>=2.8.1 in c:\\programdata\\anaconda3\\lib\\site-packages (from pandas) (2.8.2)\n",
      "Requirement already satisfied: pytz>=2020.1 in c:\\programdata\\anaconda3\\lib\\site-packages (from pandas) (2023.3.post1)\n",
      "Requirement already satisfied: numpy>=1.21.0 in c:\\users\\gülnur\\appdata\\roaming\\python\\python311\\site-packages (from pandas) (1.24.4)\n",
      "Requirement already satisfied: scipy>=1.7.0 in c:\\users\\gülnur\\appdata\\roaming\\python\\python311\\site-packages (from gensim) (1.10.1)\n",
      "Requirement already satisfied: smart-open>=1.8.1 in c:\\programdata\\anaconda3\\lib\\site-packages (from gensim) (5.2.1)\n",
      "Requirement already satisfied: FuzzyTM>=0.4.0 in c:\\users\\gülnur\\appdata\\roaming\\python\\python311\\site-packages (from gensim) (2.0.9)\n",
      "Requirement already satisfied: joblib>=1.1.1 in c:\\programdata\\anaconda3\\lib\\site-packages (from scikit-learn) (1.2.0)\n",
      "Requirement already satisfied: threadpoolctl>=2.0.0 in c:\\programdata\\anaconda3\\lib\\site-packages (from scikit-learn) (2.2.0)\n",
      "Requirement already satisfied: pyfume in c:\\users\\gülnur\\appdata\\roaming\\python\\python311\\site-packages (from FuzzyTM>=0.4.0->gensim) (0.3.4)\n",
      "Requirement already satisfied: six>=1.5 in c:\\programdata\\anaconda3\\lib\\site-packages (from python-dateutil>=2.8.1->pandas) (1.16.0)\n",
      "Requirement already satisfied: simpful==2.12.0 in c:\\users\\gülnur\\appdata\\roaming\\python\\python311\\site-packages (from pyfume->FuzzyTM>=0.4.0->gensim) (2.12.0)\n",
      "Requirement already satisfied: fst-pso==1.8.1 in c:\\users\\gülnur\\appdata\\roaming\\python\\python311\\site-packages (from pyfume->FuzzyTM>=0.4.0->gensim) (1.8.1)\n",
      "Requirement already satisfied: miniful in c:\\users\\gülnur\\appdata\\roaming\\python\\python311\\site-packages (from fst-pso==1.8.1->pyfume->FuzzyTM>=0.4.0->gensim) (0.0.6)\n",
      "Note: you may need to restart the kernel to use updated packages.\n"
     ]
    }
   ],
   "source": [
    "pip install pandas gensim scikit-learn"
   ]
  },
  {
   "cell_type": "code",
   "execution_count": 30,
   "id": "5815412d",
   "metadata": {},
   "outputs": [],
   "source": [
    "from gensim.models import Word2Vec"
   ]
  },
  {
   "cell_type": "code",
   "execution_count": 31,
   "id": "e57ffaf6",
   "metadata": {},
   "outputs": [],
   "source": [
    "descriptions = df['description'].apply(tokenize)"
   ]
  },
  {
   "cell_type": "code",
   "execution_count": 32,
   "id": "3e539f68",
   "metadata": {},
   "outputs": [],
   "source": [
    "model = Word2Vec(sentences=descriptions, vector_size=100, window=5, min_count=1, workers=4)"
   ]
  },
  {
   "cell_type": "code",
   "execution_count": 33,
   "id": "537d71aa",
   "metadata": {},
   "outputs": [],
   "source": [
    "word_vector = model.wv['pantolon']"
   ]
  },
  {
   "cell_type": "code",
   "execution_count": 34,
   "id": "c5fc44d7",
   "metadata": {},
   "outputs": [
    {
     "name": "stdout",
     "output_type": "stream",
     "text": [
      "[-0.03748853  0.05931719 -0.04615803  0.00572707  0.05743176 -0.10090315\n",
      "  0.05067069  0.1638476  -0.0918536  -0.11250623 -0.0166147  -0.12191105\n",
      " -0.00955458  0.06305717  0.08482777 -0.0865977   0.05112246 -0.00690355\n",
      " -0.02451701 -0.13297379  0.04363739  0.03516087  0.08106344 -0.02373026\n",
      "  0.01974987 -0.00205934 -0.07260679  0.00262814 -0.05105321  0.0297623\n",
      "  0.09280664 -0.08990817  0.04047932 -0.1564821  -0.03428071  0.10339823\n",
      "  0.01949509  0.02137862 -0.02060735 -0.10736489 -0.01119519 -0.05970324\n",
      " -0.02963166  0.05458191  0.05710921 -0.00999339 -0.07592175 -0.06515166\n",
      "  0.03994746  0.04724141  0.02068777 -0.06535689 -0.04162805 -0.06166052\n",
      " -0.01822909 -0.01466344  0.04547732 -0.05594565 -0.07253364 -0.01483698\n",
      "  0.02317678 -0.01071342  0.0973083   0.03439705 -0.08863842  0.16085064\n",
      "  0.01549709  0.13468905 -0.15383857  0.10146376  0.01183002  0.08273374\n",
      "  0.1229137   0.04024289  0.13476738  0.00039851 -0.00880813  0.04454806\n",
      " -0.06140966 -0.0358837  -0.09778586 -0.05317974 -0.11626261  0.08873873\n",
      " -0.02441653 -0.05842155  0.09028473 -0.01471119  0.07874651  0.02354729\n",
      "  0.11118204  0.02654639  0.08267114 -0.01088541  0.12023371  0.08900866\n",
      "  0.01077431 -0.02528854 -0.01613357 -0.05179812]\n"
     ]
    }
   ],
   "source": [
    "print(word_vector)"
   ]
  },
  {
   "cell_type": "code",
   "execution_count": 35,
   "id": "16464f8b",
   "metadata": {},
   "outputs": [],
   "source": [
    "from gensim.models import Word2Vec"
   ]
  },
  {
   "cell_type": "code",
   "execution_count": 36,
   "id": "af75afe1",
   "metadata": {},
   "outputs": [],
   "source": [
    "descriptions = df['description'].apply(tokenize)"
   ]
  },
  {
   "cell_type": "code",
   "execution_count": 37,
   "id": "85817148",
   "metadata": {},
   "outputs": [],
   "source": [
    "model = Word2Vec(sentences=descriptions, vector_size=100, window=5, min_count=1, workers=4)"
   ]
  },
  {
   "cell_type": "code",
   "execution_count": 38,
   "id": "4b3b8a51",
   "metadata": {},
   "outputs": [],
   "source": [
    "word_vector = model.wv['elbise']"
   ]
  },
  {
   "cell_type": "code",
   "execution_count": 39,
   "id": "8a5e9e4b",
   "metadata": {},
   "outputs": [
    {
     "name": "stdout",
     "output_type": "stream",
     "text": [
      "[-0.0359868   0.0539345  -0.03451698  0.01540062  0.04141029 -0.10034758\n",
      "  0.05885434  0.15068713 -0.07216884 -0.10691248 -0.01411346 -0.12142661\n",
      " -0.01287046  0.04735109  0.07033733 -0.0860599   0.04039342 -0.02531994\n",
      " -0.00443847 -0.12330181  0.05745338  0.02729586  0.0706072  -0.01123626\n",
      "  0.00683696  0.00387766 -0.08050118 -0.00411712 -0.04798863  0.01166569\n",
      "  0.08684438 -0.07400434  0.05047346 -0.14880209 -0.01884062  0.08742867\n",
      "  0.02776477  0.02425309 -0.02706983 -0.08911468 -0.00989236 -0.06574474\n",
      " -0.02566626  0.04810684  0.04063557 -0.02197045 -0.06349136 -0.05568341\n",
      "  0.04183497  0.04699326  0.01486265 -0.05610679 -0.02845217 -0.04030525\n",
      " -0.01517341 -0.00532637  0.049792   -0.05546552 -0.07161416  0.00113675\n",
      "  0.02398555 -0.00900681  0.0867639   0.03090616 -0.07909787  0.13646777\n",
      "  0.00253823  0.12660904 -0.13291758  0.0802958   0.00570389  0.07072382\n",
      "  0.1174808   0.03336044  0.13933353 -0.00550066 -0.02035128  0.04517132\n",
      " -0.05027554 -0.03692794 -0.09697993 -0.04371138 -0.10505354  0.08679801\n",
      " -0.03542281 -0.05514027  0.09127508 -0.0061842   0.07225504  0.01752095\n",
      "  0.10880461  0.02249999  0.07316832 -0.0025025   0.11241952  0.0823533\n",
      " -0.00358371 -0.02438075 -0.03118866 -0.0468821 ]\n"
     ]
    }
   ],
   "source": [
    "print(word_vector)"
   ]
  },
  {
   "cell_type": "code",
   "execution_count": 40,
   "id": "cd6c61fa",
   "metadata": {},
   "outputs": [],
   "source": [
    "color_palette = {\n",
    "    'kırmızı': [255, 0, 0],\n",
    "    'yeşil': [0, 255, 0],\n",
    "    'mavi': [0, 0, 255],\n",
    "    'sarı': [255, 255, 0],\n",
    "    'beyaz': [255, 255, 255],\n",
    "    'siyah': [0, 0, 0],\n",
    "    'gri': [128, 128, 128],\n",
    "    'bej': [245, 245, 220],\n",
    "    'krem': [255, 253, 208],\n",
    "    'lacivert': [0, 0, 128],\n",
    "    'kahverengi': [139, 69, 19],\n",
    "    'zeytin yeşili': [128, 128, 0],\n",
    "    'bordo': [128, 0, 0],\n",
    "    'ekru': [255, 255, 230],\n",
    "    'açık mavi': [173, 216, 230],\n",
    "    'koyu mavi': [0, 0, 139],\n",
    "    'açık yeşil': [144, 238, 144],\n",
    "    'koyu yeşil': [0, 100, 0],\n",
    "    'açık pembe': [255, 182, 193],\n",
    "    'koyu pembe': [255, 20, 147],\n",
    "    'turuncu': [255, 165, 0],\n",
    "    'mor': [128, 0, 128],\n",
    "    'pembe': [255, 192, 203],\n",
    "    'sarı': [255, 255, 0]\n",
    "}"
   ]
  },
  {
   "cell_type": "code",
   "execution_count": 41,
   "id": "cf8de063",
   "metadata": {},
   "outputs": [],
   "source": [
    "rgb_vectors = {\n",
    "    renk: np.pad(np.array(rgb), (0, 100 - len(rgb)), 'constant')\n",
    "    for renk, rgb in color_palette.items()\n",
    "}"
   ]
  },
  {
   "cell_type": "code",
   "execution_count": 42,
   "id": "bc7deceb",
   "metadata": {},
   "outputs": [],
   "source": [
    "renk_rgb_eslesme = {}\n",
    "for renk, vec in rgb_vectors.items():\n",
    "    similarities = {\n",
    "        rgb_name: cosine_similarity([vec], [rgb_vec])[0][0]\n",
    "        for rgb_name, rgb_vec in rgb_vectors.items()\n",
    "    }\n",
    "    en_yakin_rgb = max(similarities, key=similarities.get)\n",
    "    renk_rgb_eslesme[renk] = {\n",
    "        'en_yakin_rgb': en_yakin_rgb,\n",
    "        'rgb_degeri': color_palette[en_yakin_rgb],\n",
    "        'benzerlik': similarities[en_yakin_rgb]\n",
    "    }"
   ]
  },
  {
   "cell_type": "code",
   "execution_count": 43,
   "id": "d19a0c2c",
   "metadata": {},
   "outputs": [
    {
     "name": "stdout",
     "output_type": "stream",
     "text": [
      "kırmızı: En yakın RGB = kırmızı, RGB değeri = [255, 0, 0], Benzerlik = 1.0000\n",
      "yeşil: En yakın RGB = yeşil, RGB değeri = [0, 255, 0], Benzerlik = 1.0000\n",
      "mavi: En yakın RGB = mavi, RGB değeri = [0, 0, 255], Benzerlik = 1.0000\n",
      "sarı: En yakın RGB = sarı, RGB değeri = [255, 255, 0], Benzerlik = 1.0000\n",
      "beyaz: En yakın RGB = beyaz, RGB değeri = [255, 255, 255], Benzerlik = 1.0000\n",
      "siyah: En yakın RGB = kırmızı, RGB değeri = [255, 0, 0], Benzerlik = 0.0000\n",
      "gri: En yakın RGB = gri, RGB değeri = [128, 128, 128], Benzerlik = 1.0000\n",
      "bej: En yakın RGB = bej, RGB değeri = [245, 245, 220], Benzerlik = 1.0000\n",
      "krem: En yakın RGB = krem, RGB değeri = [255, 253, 208], Benzerlik = 1.0000\n",
      "lacivert: En yakın RGB = mavi, RGB değeri = [0, 0, 255], Benzerlik = 1.0000\n",
      "kahverengi: En yakın RGB = kahverengi, RGB değeri = [139, 69, 19], Benzerlik = 1.0000\n",
      "zeytin yeşili: En yakın RGB = sarı, RGB değeri = [255, 255, 0], Benzerlik = 1.0000\n",
      "bordo: En yakın RGB = kırmızı, RGB değeri = [255, 0, 0], Benzerlik = 1.0000\n",
      "ekru: En yakın RGB = ekru, RGB değeri = [255, 255, 230], Benzerlik = 1.0000\n",
      "açık mavi: En yakın RGB = açık mavi, RGB değeri = [173, 216, 230], Benzerlik = 1.0000\n",
      "koyu mavi: En yakın RGB = mavi, RGB değeri = [0, 0, 255], Benzerlik = 1.0000\n",
      "açık yeşil: En yakın RGB = açık yeşil, RGB değeri = [144, 238, 144], Benzerlik = 1.0000\n",
      "koyu yeşil: En yakın RGB = yeşil, RGB değeri = [0, 255, 0], Benzerlik = 1.0000\n",
      "açık pembe: En yakın RGB = açık pembe, RGB değeri = [255, 182, 193], Benzerlik = 1.0000\n",
      "koyu pembe: En yakın RGB = koyu pembe, RGB değeri = [255, 20, 147], Benzerlik = 1.0000\n",
      "turuncu: En yakın RGB = turuncu, RGB değeri = [255, 165, 0], Benzerlik = 1.0000\n",
      "mor: En yakın RGB = mor, RGB değeri = [128, 0, 128], Benzerlik = 1.0000\n",
      "pembe: En yakın RGB = pembe, RGB değeri = [255, 192, 203], Benzerlik = 1.0000\n"
     ]
    }
   ],
   "source": [
    "for renk, bilgiler in renk_rgb_eslesme.items():\n",
    "    print(f\"{renk}: En yakın RGB = {bilgiler['en_yakin_rgb']}, \"\n",
    "          f\"RGB değeri = {bilgiler['rgb_degeri']}, \"\n",
    "          f\"Benzerlik = {bilgiler['benzerlik']:.4f}\")"
   ]
  },
  {
   "cell_type": "code",
   "execution_count": 44,
   "id": "fc48412b",
   "metadata": {},
   "outputs": [],
   "source": [
    "sentences = [\n",
    "    ['kırmızı', 'yeşil', 'mavi'],\n",
    "    ['siyah', 'beyaz', 'gri'],\n",
    "    ['bej', 'krem', 'ekru'],\n",
    "    ['lacivert', 'koyu mavi'],\n",
    "    ['açık pembe', 'pembe'],\n",
    "    ['bordo', 'kahverengi'],\n",
    "    ['turuncu', 'sarı'],\n",
    "    ['zeytin yeşili', 'koyu yeşil']\n",
    "]"
   ]
  },
  {
   "cell_type": "code",
   "execution_count": 45,
   "id": "2a59eb0f",
   "metadata": {},
   "outputs": [],
   "source": [
    "model = Word2Vec(sentences=sentences, vector_size=100, window=2, min_count=1, workers=4)"
   ]
  },
  {
   "cell_type": "code",
   "execution_count": 46,
   "id": "8b36af76",
   "metadata": {},
   "outputs": [],
   "source": [
    "vector_kirmizi = model.wv['kırmızı']\n",
    "vector_yesil = model.wv['yeşil']"
   ]
  },
  {
   "cell_type": "code",
   "execution_count": 47,
   "id": "3a50e8d7",
   "metadata": {},
   "outputs": [
    {
     "name": "stdout",
     "output_type": "stream",
     "text": [
      "Kırmızı ve Yeşil benzerliği: 0.1528\n"
     ]
    }
   ],
   "source": [
    "from sklearn.metrics.pairwise import cosine_similarity\n",
    "similarity = cosine_similarity([vector_kirmizi], [vector_yesil])[0][0]\n",
    "print(f\"Kırmızı ve Yeşil benzerliği: {similarity:.4f}\")"
   ]
  },
  {
   "cell_type": "code",
   "execution_count": 48,
   "id": "39557271",
   "metadata": {},
   "outputs": [],
   "source": [
    "metinler = df['Ürün Adı'].astype(str).str.lower().str.cat(sep=' ')"
   ]
  },
  {
   "cell_type": "code",
   "execution_count": 49,
   "id": "d6c15e18",
   "metadata": {},
   "outputs": [],
   "source": [
    "kelimeler = metinler.split()"
   ]
  },
  {
   "cell_type": "code",
   "execution_count": 50,
   "id": "74cf82ad",
   "metadata": {},
   "outputs": [],
   "source": [
    "from collections import Counter"
   ]
  },
  {
   "cell_type": "code",
   "execution_count": 51,
   "id": "48c105af",
   "metadata": {},
   "outputs": [],
   "source": [
    "frekanslar = Counter(kelimeler)"
   ]
  },
  {
   "cell_type": "code",
   "execution_count": 52,
   "id": "0c9f0351",
   "metadata": {},
   "outputs": [],
   "source": [
    "sorted_freqs = sorted(frekanslar.values(), reverse=True)\n",
    "ranks = np.arange(1, len(sorted_freqs) + 1)"
   ]
  },
  {
   "cell_type": "code",
   "execution_count": 53,
   "id": "2b2245b1",
   "metadata": {},
   "outputs": [
    {
     "data": {
      "image/png": "[encoded data removed]",
      "text/plain": [
       "<Figure size 1000x600 with 1 Axes>"
      ]
     },
     "metadata": {},
     "output_type": "display_data"
    }
   ],
   "source": [
    "plt.figure(figsize=(10, 6))\n",
    "plt.plot(np.log(ranks), np.log(sorted_freqs), marker='o', linestyle='-')\n",
    "plt.title(\"Zipf Yasası - Ürün Adları\")\n",
    "plt.xlabel(\"log(Sıra)\")\n",
    "plt.ylabel(\"log(Frekans)\")\n",
    "plt.grid(True)\n",
    "plt.tight_layout()\n",
    "plt.show()"
   ]
  },
  {
   "cell_type": "code",
   "execution_count": 54,
   "id": "829da03e",
   "metadata": {},
   "outputs": [],
   "source": [
    "urun_adlari = df['Ürün Adı'].dropna().astype(str)"
   ]
  },
  {
   "cell_type": "code",
   "execution_count": 55,
   "id": "d3f2c8ac",
   "metadata": {},
   "outputs": [],
   "source": [
    "vectorizer = TfidfVectorizer(lowercase=True)"
   ]
  },
  {
   "cell_type": "code",
   "execution_count": 56,
   "id": "a4759534",
   "metadata": {},
   "outputs": [
    {
     "name": "stdout",
     "output_type": "stream",
     "text": [
      "   abiye       bel  bluz       bol  boğazlı  dantel  dekolteli  detaylı  \\\n",
      "0    0.0  0.367283   0.0  0.000000      0.0     0.0        0.0      0.0   \n",
      "1    0.0  0.367283   0.0  0.000000      0.0     0.0        0.0      0.0   \n",
      "2    0.0  0.367283   0.0  0.000000      0.0     0.0        0.0      0.0   \n",
      "3    0.0  0.358953   0.0  0.598639      0.0     0.0        0.0      0.0   \n",
      "4    0.0  0.355305   0.0  0.000000      0.0     0.0        0.0      0.0   \n",
      "\n",
      "        düz  elbise  ...  pantolon      paça  saten  straplez  sırt  uzun  \\\n",
      "0  0.572924     0.0  ...  0.367283  0.367283    0.0       0.0   0.0   0.0   \n",
      "1  0.572924     0.0  ...  0.367283  0.367283    0.0       0.0   0.0   0.0   \n",
      "2  0.572924     0.0  ...  0.367283  0.367283    0.0       0.0   0.0   0.0   \n",
      "3  0.000000     0.0  ...  0.358953  0.358953    0.0       0.0   0.0   0.0   \n",
      "4  0.000000     0.0  ...  0.355305  0.355305    0.0       0.0   0.0   0.0   \n",
      "\n",
      "   volanlı  yaka    yüksek  şifon  \n",
      "0      0.0   0.0  0.516786    0.0  \n",
      "1      0.0   0.0  0.516786    0.0  \n",
      "2      0.0   0.0  0.000000    0.0  \n",
      "3      0.0   0.0  0.505065    0.0  \n",
      "4      0.0   0.0  0.000000    0.0  \n",
      "\n",
      "[5 rows x 32 columns]\n"
     ]
    }
   ],
   "source": [
    "tfidf_matrix = vectorizer.fit_transform(urun_adlari)\n",
    "kelimeler = vectorizer.get_feature_names_out()\n",
    "tfidf_df = pd.DataFrame(tfidf_matrix.toarray(), columns=kelimeler)\n",
    "print(tfidf_df.head())"
   ]
  },
  {
   "cell_type": "code",
   "execution_count": 57,
   "id": "e37dc5c1",
   "metadata": {},
   "outputs": [
    {
     "name": "stdout",
     "output_type": "stream",
     "text": [
      "\n",
      "Veri hazırlığı yapılıyor...\n"
     ]
    }
   ],
   "source": [
    "print(\"\\nVeri hazırlığı yapılıyor...\")\n",
    "df['description'] = df['Ürün Adı'].astype(str) + ' ' + df['Renk'].astype(str) + ' ' + df['Stil Önerisi'].astype(str)"
   ]
  },
  {
   "cell_type": "code",
   "execution_count": 58,
   "id": "fb64c5f7",
   "metadata": {},
   "outputs": [],
   "source": [
    "turkish_stop_words = set([\n",
    "    'acaba', 'ama', 'aslında', 'az', 'bazı', 'belki', 'biri', 'birkaç', \n",
    "    'birşey', 'biz', 'bu', 'çok', 'çünkü', 'da', 'daha', 'de', 'defa', \n",
    "    'diye', 'eğer', 'en', 'gibi', 'hem', 'hep', 'hepsi', 'her', 'hiç', \n",
    "    'için', 'ile', 'ise', 'kez', 'ki', 'kim', 'mı', 'mu', 'mü', 'nasıl', \n",
    "    'ne', 'neden', 'nerde', 'nerede', 'nereye', 'niçin', 'niye', 'o', \n",
    "    'sanki', 'şey', 'siz', 'şu', 'tüm', 've', 'veya', 'ya', 'yani'\n",
    "])"
   ]
  },
  {
   "cell_type": "code",
   "execution_count": 59,
   "id": "9ae9c159",
   "metadata": {},
   "outputs": [],
   "source": [
    "import re\n",
    "from nltk.tokenize import word_tokenize\n",
    "from nltk.stem import WordNetLemmatizer, PorterStemmer\n",
    "from nltk.corpus import stopwords\n",
    "turkish_stop_words = set(stopwords.words('turkish'))\n",
    "def preprocess_text(text, process_type='lemmatize'):\n",
    "    try:\n",
    "        text = str(text).lower()\n",
    "        text = re.sub(r'[^\\w\\s]', '', text)\n",
    "        tokens = word_tokenize(text)\n",
    "        tokens = [token for token in tokens if token not in turkish_stop_words]\n",
    "        tokens = [token for token in tokens if not token.isdigit()]\n",
    "        tokens = [token for token in tokens if len(token) > 1]\n",
    "        if process_type == 'lemmatize':\n",
    "            lemmatizer = WordNetLemmatizer()\n",
    "            tokens = [lemmatizer.lemmatize(token) for token in tokens]\n",
    "        elif process_type == 'stem':\n",
    "            stemmer = PorterStemmer()\n",
    "            tokens = [stemmer.stem(token) for token in tokens]\n",
    "        else:\n",
    "            print(\"Geçersiz işlem türü, 'lemmatize' veya 'stem' seçiniz.\")\n",
    "        return tokens\n",
    "    except Exception as e:\n",
    "        print(\"Ön işleme hatası:\", e)\n",
    "        return []"
   ]
  },
  {
   "cell_type": "code",
   "execution_count": 60,
   "id": "3da20377",
   "metadata": {},
   "outputs": [
    {
     "name": "stdout",
     "output_type": "stream",
     "text": [
      "\n",
      "Metin ön işleme uygulanıyor...\n",
      "\n",
      "Ön işleme sonrası örnek çıktı:\n",
      "                                         description  \\\n",
      "0  Yüksek Bel Düz Paça Pantolon Krem Sneaker ve t...   \n",
      "1  Yüksek Bel Düz Paça Pantolon Kahverengi Gömlek...   \n",
      "2  Orta Bel Düz Paça Pantolon Lacivert Triko kaza...   \n",
      "3  Yüksek Bel Bol Paça Pantolon Bej Gömlek ve top...   \n",
      "4  Orta Bel Geniş Paça Pantolon Lacivert Triko ka...   \n",
      "\n",
      "                                          lemmatized  \\\n",
      "0  [yüksek, bel, düz, paça, pantolon, krem, sneak...   \n",
      "1  [yüksek, bel, düz, paça, pantolon, kahverengi,...   \n",
      "2  [orta, bel, düz, paça, pantolon, lacivert, tri...   \n",
      "3  [yüksek, bel, bol, paça, pantolon, bej, gömlek...   \n",
      "4  [orta, bel, geniş, paça, pantolon, lacivert, t...   \n",
      "\n",
      "                                             stemmed  \n",
      "0  [yüksek, bel, düz, paça, pantolon, krem, sneak...  \n",
      "1  [yüksek, bel, düz, paça, pantolon, kahverengi,...  \n",
      "2  [orta, bel, düz, paça, pantolon, lacivert, tri...  \n",
      "3  [yüksek, bel, bol, paça, pantolon, bej, gömlek...  \n",
      "4  [orta, bel, geniş, paça, pantolon, lacivert, t...  \n"
     ]
    }
   ],
   "source": [
    "print(\"\\nMetin ön işleme uygulanıyor...\")\n",
    "df['lemmatized'] = df['description'].apply(lambda x: preprocess_text(x, 'lemmatize'))\n",
    "df['stemmed'] = df['description'].apply(lambda x: preprocess_text(x, 'stem'))\n",
    "print(\"\\nÖn işleme sonrası örnek çıktı:\")\n",
    "print(df[['description', 'lemmatized', 'stemmed']].head())"
   ]
  },
  {
   "cell_type": "code",
   "execution_count": 61,
   "id": "da6cbdbe",
   "metadata": {},
   "outputs": [],
   "source": [
    "def plot_zipf(data, title):\n",
    "    try:\n",
    "        all_words = [word for sublist in data for word in sublist]\n",
    "        word_counts = Counter(all_words)\n",
    "        sorted_counts = sorted(word_counts.values(), reverse=True)\n",
    "        ranks = np.arange(1, len(sorted_counts)+1)\n",
    "        \n",
    "        plt.figure(figsize=(10,6))\n",
    "        plt.loglog(ranks, sorted_counts, marker=\".\")\n",
    "        plt.title(f\"Zipf Yasası - {title}\")\n",
    "        plt.xlabel(\"Kelime Sırası (log)\")\n",
    "        plt.ylabel(\"Frekans (log)\")\n",
    "        plt.grid(True)\n",
    "        plt.show()\n",
    "        print(f\"{title} Zipf grafiği oluşturuldu.\")\n",
    "    except Exception as e:\n",
    "        print(f\"Zipf grafiği oluşturulamadı: {e}\")"
   ]
  },
  {
   "cell_type": "code",
   "execution_count": 62,
   "id": "2e78a023",
   "metadata": {},
   "outputs": [
    {
     "name": "stdout",
     "output_type": "stream",
     "text": [
      "\n",
      "Zipf analizi yapılıyor...\n"
     ]
    },
    {
     "data": {
      "image/png": "[encoded data removed]",
      "text/plain": [
       "<Figure size 1000x600 with 1 Axes>"
      ]
     },
     "metadata": {},
     "output_type": "display_data"
    },
    {
     "name": "stdout",
     "output_type": "stream",
     "text": [
      "Ham Veri Zipf grafiği oluşturuldu.\n"
     ]
    },
    {
     "data": {
      "image/png": "[encoded data removed]",
      "text/plain": [
       "<Figure size 1000x600 with 1 Axes>"
      ]
     },
     "metadata": {},
     "output_type": "display_data"
    },
    {
     "name": "stdout",
     "output_type": "stream",
     "text": [
      "Lemmatized Veri Zipf grafiği oluşturuldu.\n"
     ]
    },
    {
     "data": {
      "image/png": "[encoded data removed]",
      "text/plain": [
       "<Figure size 1000x600 with 1 Axes>"
      ]
     },
     "metadata": {},
     "output_type": "display_data"
    },
    {
     "name": "stdout",
     "output_type": "stream",
     "text": [
      "Stemmed Veri Zipf grafiği oluşturuldu.\n"
     ]
    }
   ],
   "source": [
    "print(\"\\nZipf analizi yapılıyor...\")\n",
    "plot_zipf(df['description'].apply(lambda x: x.split()), \"Ham Veri\")\n",
    "plot_zipf(df['lemmatized'], \"Lemmatized Veri\")\n",
    "plot_zipf(df['stemmed'], \"Stemmed Veri\")"
   ]
  },
  {
   "cell_type": "code",
   "execution_count": 63,
   "id": "4bb1946b",
   "metadata": {},
   "outputs": [
    {
     "name": "stdout",
     "output_type": "stream",
     "text": [
      "\n",
      "TF-IDF vektörleştirme yapılıyor...\n",
      "tfidf_lemmatized.csv başarıyla kaydedildi. Boyut: (400, 79)\n",
      "tfidf_stemmed.csv başarıyla kaydedildi. Boyut: (400, 79)\n"
     ]
    }
   ],
   "source": [
    "print(\"\\nTF-IDF vektörleştirme yapılıyor...\")\n",
    "def create_tfidf(data, name):\n",
    "    try:\n",
    "        corpus = [\" \".join(tokens) for tokens in data]\n",
    "        vectorizer = TfidfVectorizer()\n",
    "        X = vectorizer.fit_transform(corpus)\n",
    "        df_tfidf = pd.DataFrame(X.toarray(), columns=vectorizer.get_feature_names_out())\n",
    "        df_tfidf.to_csv(f\"tfidf_{name}.csv\", index=False)\n",
    "        print(f\"tfidf_{name}.csv başarıyla kaydedildi. Boyut:\", df_tfidf.shape)\n",
    "        return df_tfidf\n",
    "    except Exception as e:\n",
    "        print(f\"TF-IDF oluşturulamadı ({name}):\", e)\n",
    "        return None\n",
    "tfidf_lemmatized = create_tfidf(df['lemmatized'], \"lemmatized\")\n",
    "tfidf_stemmed = create_tfidf(df['stemmed'], \"stemmed\")"
   ]
  },
  {
   "cell_type": "code",
   "execution_count": 64,
   "id": "342cd9d2",
   "metadata": {},
   "outputs": [
    {
     "name": "stdout",
     "output_type": "stream",
     "text": [
      "\n",
      "Word2Vec modelleri eğitiliyor...\n"
     ]
    }
   ],
   "source": [
    "from gensim.models import Word2Vec\n",
    "\n",
    "print(\"\\nWord2Vec modelleri eğitiliyor...\")\n",
    "\n",
    "def train_word2vec(sentences, name, model_type='cbow', window=5, vector_size=100):\n",
    "    try:\n",
    "        model = Word2Vec(\n",
    "            sentences=sentences,\n",
    "            sg=1 if model_type == 'skipgram' else 0,\n",
    "            window=window,\n",
    "            vector_size=vector_size,\n",
    "            min_count=1,\n",
    "            workers=4\n",
    "        )\n",
    "        model.save(f\"word2vec_{name}_{model_type}_w{window}_d{vector_size}.model\")\n",
    "        print(f\"Model {name}_{model_type} kaydedildi.\")\n",
    "    except Exception as e:\n",
    "        print(f\"Model eğitilirken hata oluştu: {e}\")\n"
   ]
  },
  {
   "cell_type": "code",
   "execution_count": 65,
   "id": "29864d06",
   "metadata": {},
   "outputs": [],
   "source": [
    "def train_word2vec(sentences, name, model_type='cbow', window=5, vector_size=100):\n",
    "    try:\n",
    "        model = Word2Vec(\n",
    "            sentences=sentences,\n",
    "            sg=1 if model_type == 'skipgram' else 0,\n",
    "            window=window,\n",
    "            vector_size=vector_size,\n",
    "            min_count=1,\n",
    "            workers=4\n",
    "        )\n",
    "        try:\n",
    "            similar = model.wv.most_similar('elbise', topn=5)\n",
    "            print(f\"'elbise' için benzer kelimeler: {similar}\")\n",
    "        except:\n",
    "            print(\"'elbise' kelimesi modelde bulunamadı\")\n",
    "        model.save(f\"word2vec_{name}_{model_type}_w{window}_d{vector_size}.model\")\n",
    "        print(f\"Model {name}_{model_type} kaydedildi.\")\n",
    "\n",
    "        return model\n",
    "    except Exception as e:\n",
    "        print(f\"Word2Vec modeli eğitilemedi ({name}):\", e)\n",
    "        return None"
   ]
  },
  {
   "cell_type": "code",
   "execution_count": 66,
   "id": "3ba14c8a",
   "metadata": {},
   "outputs": [],
   "source": [
    "params = [\n",
    "    {'model_type': 'cbow', 'window': 2, 'vector_size': 100},\n",
    "    {'model_type': 'skipgram', 'window': 2, 'vector_size': 100},\n",
    "    {'model_type': 'cbow', 'window': 5, 'vector_size': 100},\n",
    "    {'model_type': 'skipgram', 'window': 5, 'vector_size': 100},\n",
    "    {'model_type': 'cbow', 'window': 2, 'vector_size': 300},\n",
    "    {'model_type': 'skipgram', 'window': 2, 'vector_size': 300},\n",
    "    {'model_type': 'cbow', 'window': 5, 'vector_size': 300},\n",
    "    {'model_type': 'skipgram', 'window': 5, 'vector_size': 300}\n",
    "]"
   ]
  },
  {
   "cell_type": "code",
   "execution_count": 67,
   "id": "848151a1",
   "metadata": {},
   "outputs": [
    {
     "name": "stdout",
     "output_type": "stream",
     "text": [
      "\n",
      "cbow modeli eğitiliyor (window=2, dim=100)...\n",
      "'elbise' için benzer kelimeler: [('kumaş', 0.9366440773010254), ('gece', 0.9214726090431213), ('bluz', 0.9194682836532593), ('elbisesi', 0.9172019958496094), ('bir', 0.9132724404335022)]\n",
      "Model lemmatized_cbow kaydedildi.\n",
      "\n",
      "skipgram modeli eğitiliyor (window=2, dim=100)...\n",
      "'elbise' için benzer kelimeler: [('kumaş', 0.9935644865036011), ('bluz', 0.9924165606498718), ('gece', 0.9920743703842163), ('elbisesi', 0.9917086958885193), ('bir', 0.9915503263473511)]\n",
      "Model lemmatized_skipgram kaydedildi.\n",
      "\n",
      "cbow modeli eğitiliyor (window=5, dim=100)...\n",
      "'elbise' için benzer kelimeler: [('kumaş', 0.9801357388496399), ('paça', 0.9758625030517578), ('bluz', 0.9746795296669006), ('mezuniyet', 0.9739992618560791), ('bir', 0.9727997779846191)]\n",
      "Model lemmatized_cbow kaydedildi.\n",
      "\n",
      "skipgram modeli eğitiliyor (window=5, dim=100)...\n",
      "'elbise' için benzer kelimeler: [('kumaş', 0.9981023669242859), ('gece', 0.9978724122047424), ('yeşil', 0.997841477394104), ('bej', 0.9977794289588928), ('bir', 0.997745931148529)]\n",
      "Model lemmatized_skipgram kaydedildi.\n",
      "\n",
      "cbow modeli eğitiliyor (window=2, dim=300)...\n",
      "'elbise' için benzer kelimeler: [('bluz', 0.9233620762825012), ('kumaş', 0.9152798652648926), ('bir', 0.9135331511497498), ('elbisesi', 0.9016555547714233), ('topuklu', 0.8997895121574402)]\n",
      "Model lemmatized_cbow kaydedildi.\n",
      "\n",
      "skipgram modeli eğitiliyor (window=2, dim=300)...\n",
      "'elbise' için benzer kelimeler: [('bluz', 0.9943011403083801), ('kumaş', 0.9933190941810608), ('bir', 0.9932671189308167), ('zarif', 0.9923960566520691), ('topuklu', 0.9922441244125366)]\n",
      "Model lemmatized_skipgram kaydedildi.\n",
      "\n",
      "cbow modeli eğitiliyor (window=5, dim=300)...\n",
      "'elbise' için benzer kelimeler: [('bluz', 0.9767175316810608), ('kumaş', 0.974156379699707), ('bir', 0.9731372594833374), ('pantolonla', 0.9720126986503601), ('paça', 0.970863938331604)]\n",
      "Model lemmatized_cbow kaydedildi.\n",
      "\n",
      "skipgram modeli eğitiliyor (window=5, dim=300)...\n",
      "'elbise' için benzer kelimeler: [('bluz', 0.9992358088493347), ('bir', 0.999168872833252), ('kumaş', 0.9991409182548523), ('pantolonla', 0.9991012811660767), ('zarif', 0.9990449547767639)]\n",
      "Model lemmatized_skipgram kaydedildi.\n"
     ]
    }
   ],
   "source": [
    "for param in params:\n",
    "    print(f\"\\n{param['model_type']} modeli eğitiliyor (window={param['window']}, dim={param['vector_size']})...\")\n",
    "    train_word2vec(\n",
    "        sentences=df['lemmatized'],\n",
    "        name='lemmatized',\n",
    "        model_type=param['model_type'],\n",
    "        window=param['window'],\n",
    "        vector_size=param['vector_size']\n",
    "    )"
   ]
  },
  {
   "cell_type": "code",
   "execution_count": 68,
   "id": "1e73c3bd",
   "metadata": {},
   "outputs": [
    {
     "name": "stdout",
     "output_type": "stream",
     "text": [
      "'elbise' kelimesi modelde bulunamadı\n",
      "Model stemmed_skipgram kaydedildi.\n",
      "\n",
      "Tüm işlemler başarıyla tamamlandı!\n"
     ]
    }
   ],
   "source": [
    " train_word2vec(\n",
    "        sentences=df['stemmed'],\n",
    "        name='stemmed',\n",
    "        model_type=param['model_type'],\n",
    "        window=param['window'],\n",
    "        vector_size=param['vector_size']\n",
    "    )\n",
    "print(\"\\nTüm işlemler başarıyla tamamlandı!\")"
   ]
  },
  {
   "cell_type": "code",
   "execution_count": null,
   "id": "81c8a7eb",
   "metadata": {},
   "outputs": [],
   "source": []
  }
 ],
 "metadata": {
  "kernelspec": {
   "display_name": "Python 3 (ipykernel)",
   "language": "python",
   "name": "python3"
  },
  "language_info": {
   "codemirror_mode": {
    "name": "ipython",
    "version": 3
   },
   "file_extension": ".py",
   "mimetype": "text/x-python",
   "name": "python",
   "nbconvert_exporter": "python",
   "pygments_lexer": "ipython3",
   "version": "3.11.5"
  }
 },
 "nbformat": 4,
 "nbformat_minor": 5
}
